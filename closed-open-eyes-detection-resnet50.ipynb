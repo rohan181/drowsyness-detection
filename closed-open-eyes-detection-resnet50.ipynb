{
 "cells": [
  {
   "cell_type": "markdown",
   "metadata": {
    "id": "hk49VKtuDBNW"
   },
   "source": [
    "## Imports"
   ]
  },
  {
   "cell_type": "code",
   "execution_count": 1,
   "metadata": {},
   "outputs": [
    {
     "name": "stdout",
     "output_type": "stream",
     "text": [
      "closed_eye  open_eye\r\n"
     ]
    }
   ],
   "source": [
    "!ls /kaggle/input/drowsiness-detection"
   ]
  },
  {
   "cell_type": "code",
   "execution_count": 1,
   "metadata": {
    "id": "9fXY_-Tqv-kU"
   },
   "outputs": [
    {
     "ename": "ModuleNotFoundError",
     "evalue": "No module named 'keras.applications.resnet50'",
     "output_type": "error",
     "traceback": [
      "\u001b[1;31m---------------------------------------------------------------------------\u001b[0m",
      "\u001b[1;31mModuleNotFoundError\u001b[0m                       Traceback (most recent call last)",
      "\u001b[1;32m<ipython-input-1-858f8d56722e>\u001b[0m in \u001b[0;36m<module>\u001b[1;34m\u001b[0m\n\u001b[0;32m     11\u001b[0m \u001b[1;33m\u001b[0m\u001b[0m\n\u001b[0;32m     12\u001b[0m \u001b[1;32mfrom\u001b[0m \u001b[0mtensorflow\u001b[0m\u001b[1;33m.\u001b[0m\u001b[0mkeras\u001b[0m\u001b[1;33m.\u001b[0m\u001b[0mapplications\u001b[0m \u001b[1;32mimport\u001b[0m \u001b[0mResNet50\u001b[0m\u001b[1;33m\u001b[0m\u001b[1;33m\u001b[0m\u001b[0m\n\u001b[1;32m---> 13\u001b[1;33m \u001b[1;32mfrom\u001b[0m \u001b[0mkeras\u001b[0m\u001b[1;33m.\u001b[0m\u001b[0mapplications\u001b[0m\u001b[1;33m.\u001b[0m\u001b[0mresnet50\u001b[0m \u001b[1;32mimport\u001b[0m \u001b[0mpreprocess_input\u001b[0m\u001b[1;33m\u001b[0m\u001b[1;33m\u001b[0m\u001b[0m\n\u001b[0m\u001b[0;32m     14\u001b[0m \u001b[1;32mfrom\u001b[0m \u001b[0mkeras\u001b[0m\u001b[1;33m.\u001b[0m\u001b[0mmodels\u001b[0m \u001b[1;32mimport\u001b[0m \u001b[0mSequential\u001b[0m\u001b[1;33m\u001b[0m\u001b[1;33m\u001b[0m\u001b[0m\n\u001b[0;32m     15\u001b[0m \u001b[1;32mfrom\u001b[0m \u001b[0mkeras\u001b[0m\u001b[1;33m.\u001b[0m\u001b[0mlayers\u001b[0m \u001b[1;32mimport\u001b[0m \u001b[0mDense\u001b[0m\u001b[1;33m\u001b[0m\u001b[1;33m\u001b[0m\u001b[0m\n",
      "\u001b[1;31mModuleNotFoundError\u001b[0m: No module named 'keras.applications.resnet50'"
     ]
    }
   ],
   "source": [
    "import cv2, os\n",
    "import numpy as np\n",
    "import matplotlib.image as mpimg\n",
    "import matplotlib.pyplot as plt\n",
    "%matplotlib inline\n",
    "from matplotlib.image import imread\n",
    "import tensorflow as tf \n",
    "from tensorflow import keras\n",
    "from tensorflow.keras import models, layers, Model\n",
    "from tensorflow.keras.preprocessing.image import ImageDataGenerator\n",
    "\n",
    "from tensorflow.keras.applications import ResNet50\n",
    "from keras.applications.resnet50 import preprocess_input\n",
    "from keras.models import Sequential\n",
    "from keras.layers import Dense\n"
   ]
  },
  {
   "cell_type": "code",
   "execution_count": null,
   "metadata": {},
   "outputs": [],
   "source": [
    "!pip uninstall Keras\n",
    "!pip install Keras==2.3.1\n",
    "\n",
    "!pip uninstall Keras-Applications\n",
    "!pip install Keras-Applications==1.0.8\n",
    "\n",
    "!pip uninstall Keras-Preprocessing\n",
    "!pip install Keras-Preprocessing==1.1.0\n"
   ]
  },
  {
   "cell_type": "code",
   "execution_count": 3,
   "metadata": {
    "id": "KMS6yVPUAhBL"
   },
   "outputs": [],
   "source": [
    "data_dir = '/kaggle/input/drowsiness-detection'"
   ]
  },
  {
   "cell_type": "markdown",
   "metadata": {
    "id": "6RkZR_WUphgw"
   },
   "source": [
    "- We do not explicitly label the images \n",
    "-  ImageGenerator will read images from subdirectories, and automatically label them from the name of that subdirectory"
   ]
  },
  {
   "cell_type": "markdown",
   "metadata": {
    "id": "tyWVxuUnzP-K"
   },
   "source": [
    "## Image Data Generator and Data Augmentation\n",
    "\n",
    "- Things like rotating and flipping the existing images allows you to generate training data that is more varied, and can help the model generalize better "
   ]
  },
  {
   "cell_type": "code",
   "execution_count": 4,
   "metadata": {},
   "outputs": [
    {
     "name": "stdout",
     "output_type": "stream",
     "text": [
      "Found 33600 images belonging to 2 classes.\n",
      "Found 14400 images belonging to 2 classes.\n"
     ]
    }
   ],
   "source": [
    "train_datagen = ImageDataGenerator(validation_split=0.3,\n",
    "                                   preprocessing_function=preprocess_input) # don't use rescale = 1./255\n",
    "\n",
    "train_generator = train_datagen.flow_from_directory( data_dir,\n",
    "                                                     target_size=(224,224),\n",
    "                                                     batch_size=100,\n",
    "                                                     shuffle=True,\n",
    "                                                     class_mode='binary',\n",
    "                                                     subset='training')\n",
    "\n",
    "validation_datagen = ImageDataGenerator(validation_split=0.3,\n",
    "                                        preprocessing_function=preprocess_input)\n",
    "\n",
    "validation_generator =  validation_datagen.flow_from_directory( data_dir,\n",
    "                                                                target_size=(224,224),\n",
    "                                                                batch_size=100,\n",
    "                                                                class_mode='binary',\n",
    "                                                                subset='validation')   "
   ]
  },
  {
   "cell_type": "code",
   "execution_count": 10,
   "metadata": {},
   "outputs": [
    {
     "name": "stdout",
     "output_type": "stream",
     "text": [
      "Model: \"sequential_1\"\n",
      "_________________________________________________________________\n",
      "Layer (type)                 Output Shape              Param #   \n",
      "=================================================================\n",
      "resnet50 (Functional)        (None, 2048)              23587712  \n",
      "_________________________________________________________________\n",
      "dense_1 (Dense)              (None, 1)                 2049      \n",
      "=================================================================\n",
      "Total params: 23,589,761\n",
      "Trainable params: 2,049\n",
      "Non-trainable params: 23,587,712\n",
      "_________________________________________________________________\n"
     ]
    }
   ],
   "source": [
    "model_res50 = Sequential()\n",
    "\n",
    "model_res50.add(ResNet50(\n",
    "    include_top=False,\n",
    "    pooling='avg',\n",
    "    weights='imagenet'\n",
    "    ))\n",
    "\n",
    "model_res50.add(Dense(1, activation='sigmoid'))\n",
    "\n",
    "model_res50.layers[0].trainable = False \n",
    "\n",
    "model_res50.summary()\n",
    "\n",
    "\n",
    "steps_per_epoch_training = len(train_generator)\n",
    "steps_per_epoch_validation = len(validation_generator)\n"
   ]
  },
  {
   "cell_type": "code",
   "execution_count": 11,
   "metadata": {},
   "outputs": [
    {
     "name": "stdout",
     "output_type": "stream",
     "text": [
      "Epoch 1/7\n",
      "336/336 [==============================] - 219s 646ms/step - loss: 0.1882 - accuracy: 0.9345 - val_loss: 0.1627 - val_accuracy: 0.9366\n",
      "Epoch 2/7\n",
      "336/336 [==============================] - 150s 446ms/step - loss: 0.0380 - accuracy: 0.9886 - val_loss: 0.1759 - val_accuracy: 0.9382\n",
      "Epoch 3/7\n",
      "336/336 [==============================] - 145s 433ms/step - loss: 0.0277 - accuracy: 0.9923 - val_loss: 0.1739 - val_accuracy: 0.9403\n",
      "Epoch 4/7\n",
      "336/336 [==============================] - 152s 452ms/step - loss: 0.0239 - accuracy: 0.9932 - val_loss: 0.1929 - val_accuracy: 0.9378\n",
      "Epoch 5/7\n",
      "336/336 [==============================] - 157s 466ms/step - loss: 0.0205 - accuracy: 0.9939 - val_loss: 0.2086 - val_accuracy: 0.9368\n",
      "Epoch 6/7\n",
      "336/336 [==============================] - 143s 427ms/step - loss: 0.0198 - accuracy: 0.9937 - val_loss: 0.1919 - val_accuracy: 0.9402\n",
      "Epoch 7/7\n",
      "336/336 [==============================] - 144s 429ms/step - loss: 0.0174 - accuracy: 0.9946 - val_loss: 0.2212 - val_accuracy: 0.9365\n"
     ]
    }
   ],
   "source": [
    "model_res50.compile(optimizer='adam', \n",
    "              loss='binary_crossentropy', \n",
    "              metrics=['accuracy'])\n",
    "\n",
    "history = model_res50.fit(\n",
    "    train_generator,\n",
    "    steps_per_epoch=steps_per_epoch_training,\n",
    "    validation_steps=steps_per_epoch_validation,\n",
    "    epochs=7,\n",
    "    validation_data=validation_generator,\n",
    "    verbose=1\n",
    ")"
   ]
  },
  {
   "cell_type": "markdown",
   "metadata": {
    "id": "17A83m14rubF"
   },
   "source": [
    "- Let's see some images \n"
   ]
  },
  {
   "cell_type": "code",
   "execution_count": 12,
   "metadata": {
    "id": "NGM4HaAi9N1X"
   },
   "outputs": [
    {
     "data": {
      "image/png": "[encoded data removed]",
      "text/plain": [
       "<Figure size 432x288 with 1 Axes>"
      ]
     },
     "metadata": {
      "needs_background": "light"
     },
     "output_type": "display_data"
    },
    {
     "data": {
      "image/png": "[encoded data removed]",
      "text/plain": [
       "<Figure size 432x288 with 1 Axes>"
      ]
     },
     "metadata": {
      "needs_background": "light"
     },
     "output_type": "display_data"
    }
   ],
   "source": [
    "%matplotlib inline\n",
    "\n",
    "import matplotlib.image  as mpimg\n",
    "import matplotlib.pyplot as plt\n",
    "\n",
    "#-----------------------------------------------------------\n",
    "# Retrieve a list of list results on training and test data\n",
    "# sets for each training epoch\n",
    "#-----------------------------------------------------------\n",
    "acc=history.history['accuracy']\n",
    "val_acc=history.history['val_accuracy']\n",
    "loss=history.history['loss']\n",
    "val_loss=history.history['val_loss']\n",
    "\n",
    "epochs=range(len(acc)) # Get number of epochs\n",
    "\n",
    "#------------------------------------------------\n",
    "# Plot training and validation accuracy per epoch\n",
    "#------------------------------------------------\n",
    "plt.plot(epochs, acc, 'r', \"Training Accuracy\")\n",
    "plt.plot(epochs, val_acc, 'b', \"Validation Accuracy\")\n",
    "plt.title('Training and validation accuracy')\n",
    "plt.figure()\n",
    "\n",
    "#------------------------------------------------\n",
    "# Plot training and validation loss per epoch\n",
    "#------------------------------------------------\n",
    "plt.plot(epochs, loss, 'r', \"Training Loss\")\n",
    "plt.plot(epochs, val_loss, 'b', \"Validation Loss\")\n",
    "plt.title('Training and validation loss')\n",
    "plt.legend()\n",
    "\n",
    "plt.show()"
   ]
  },
  {
   "cell_type": "code",
   "execution_count": 13,
   "metadata": {
    "id": "WmXbe85U9Nx-"
   },
   "outputs": [],
   "source": [
    "model_res50.save('drowsines_model_ResNet50_Binary2.h5')"
   ]
  },
  {
   "cell_type": "markdown",
   "metadata": {},
   "source": [
    "## Prediction"
   ]
  },
  {
   "cell_type": "code",
   "execution_count": null,
   "metadata": {},
   "outputs": [],
   "source": [
    "img_array = cv2.imread('prediction\\s0030_01108_0_0_1_0_0_01.png', cv2.IMREAD_GRAYSCALE)\n",
    "backtorgb = cv2.cvtColor(img_array, cv2.COLOR_GRAY2BGR)\n",
    "new_array = cv2.resize(backtorgb, (image_size, image_size))\n",
    "X_input = np.array(new_array).reshape(1, image_size, image_size, 3)\n",
    "# plt.imshow(new_array)\n",
    "prediction = model.predict(X_input/255.0)\n",
    "prediction[0]"
   ]
  },
  {
   "cell_type": "code",
   "execution_count": null,
   "metadata": {},
   "outputs": [],
   "source": []
  },
  {
   "cell_type": "code",
   "execution_count": null,
   "metadata": {},
   "outputs": [],
   "source": []
  }
 ],
 "metadata": {
  "kernelspec": {
   "display_name": "Python 3",
   "language": "python",
   "name": "python3"
  },
  "language_info": {
   "codemirror_mode": {
    "name": "ipython",
    "version": 3
   },
   "file_extension": ".py",
   "mimetype": "text/x-python",
   "name": "python",
   "nbconvert_exporter": "python",
   "pygments_lexer": "ipython3",
   "version": "3.8.8"
  }
 },
 "nbformat": 4,
 "nbformat_minor": 4
}
